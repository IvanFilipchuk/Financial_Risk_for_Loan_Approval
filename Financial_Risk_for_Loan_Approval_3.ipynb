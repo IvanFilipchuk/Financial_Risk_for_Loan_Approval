{
 "cells": [
  {
   "cell_type": "code",
   "execution_count": 1,
   "id": "c456be5f",
   "metadata": {},
   "outputs": [],
   "source": [
    "import pandas as pd\n",
    "import numpy as np\n",
    "import matplotlib.pyplot as plt\n",
    "import seaborn as sns\n",
    "from sklearn.preprocessing import LabelEncoder, StandardScaler, MinMaxScaler\n",
    "from scipy.stats import mstats\n",
    "from sklearn.linear_model import LinearRegression\n",
    "from sklearn.metrics import mean_squared_error, r2_score,accuracy_score, confusion_matrix\n",
    "from sklearn.neighbors import KNeighborsClassifier\n",
    "from sklearn.model_selection import train_test_split"
   ]
  },
  {
   "cell_type": "code",
   "execution_count": 2,
   "id": "8e2b250a",
   "metadata": {},
   "outputs": [
    {
     "name": "stdout",
     "output_type": "stream",
     "text": [
      "Liczba wierszy przed usunięciem wartości odstających: 20000\n",
      "Liczba wierszy po usunięciu wartości odstających: 16794\n",
      "Liczba wartości odstających w każdej kolumnie:\n",
      "Age                             54\n",
      "AnnualIncome                   381\n",
      "CreditScore                    141\n",
      "EmploymentStatus              1239\n",
      "Experience                      66\n",
      "LoanAmount                     426\n",
      "LoanDuration                   444\n",
      "MonthlyDebtPayments            348\n",
      "CreditCardUtilizationRate      113\n",
      "NumberOfOpenCreditLines        216\n",
      "NumberOfCreditInquiries        312\n",
      "DebtToIncomeRatio              122\n",
      "BankruptcyHistory              913\n",
      "PreviousLoanDefaults          1776\n",
      "PaymentHistory                  76\n",
      "SavingsAccountBalance          339\n",
      "CheckingAccountBalance         384\n",
      "TotalAssets                    354\n",
      "TotalLiabilities               381\n",
      "MonthlyIncome                  409\n",
      "UtilityBillsPaymentHistory     181\n",
      "JobTenure                       97\n",
      "NetWorth                       367\n",
      "BaseInterestRate               134\n",
      "InterestRate                   140\n",
      "MonthlyLoanPayment             369\n",
      "TotalDebtToIncomeRatio         402\n",
      "RiskScore                       49\n",
      "HomeOwnershipStatus_Other     1825\n",
      "MaritalStatus_Widowed          894\n",
      "LoanPurpose_Other             1806\n",
      "dtype: int64\n",
      "Liczba wartości odstających w każdej kolumnie(po usuwaniu ):\n",
      "Age                             43\n",
      "AnnualIncome                   107\n",
      "CreditScore                    125\n",
      "EmploymentStatus              1058\n",
      "Experience                      54\n",
      "LoanAmount                     356\n",
      "LoanDuration                   372\n",
      "MonthlyDebtPayments            287\n",
      "CreditCardUtilizationRate       97\n",
      "NumberOfOpenCreditLines        187\n",
      "NumberOfCreditInquiries        264\n",
      "DebtToIncomeRatio              106\n",
      "BankruptcyHistory              765\n",
      "PreviousLoanDefaults          1489\n",
      "PaymentHistory                  62\n",
      "SavingsAccountBalance          291\n",
      "CheckingAccountBalance         333\n",
      "TotalLiabilities               319\n",
      "UtilityBillsPaymentHistory     156\n",
      "JobTenure                       85\n",
      "NetWorth                       156\n",
      "BaseInterestRate               107\n",
      "InterestRate                   119\n",
      "MonthlyLoanPayment             312\n",
      "TotalDebtToIncomeRatio         335\n",
      "RiskScore                       50\n",
      "HomeOwnershipStatus_Other     1543\n",
      "MaritalStatus_Widowed          746\n",
      "LoanPurpose_Other             1523\n",
      "dtype: int64\n"
     ]
    }
   ],
   "source": [
    "df = pd.read_csv('data/scaled_data/standardized/dataset_filled_combined_standardized.csv')\n",
    "columns_to_check = ['MonthlyIncome', 'TotalAssets']\n",
    "def remove_outliers_for_selected_columns(data, columns, threshold=3):\n",
    "    while True:\n",
    "        z_scores = np.abs((data[columns] - data[columns].mean()) / data[columns].std())\n",
    "        outliers = (z_scores > threshold).sum().sum()\n",
    "        if outliers == 0:\n",
    "            break\n",
    "        data = data[(z_scores <= threshold).all(axis=1)]\n",
    "        \n",
    "    return data\n",
    "filtered_df = remove_outliers_for_selected_columns(df, columns_to_check)\n",
    "print(f\"Liczba wierszy przed usunięciem wartości odstających: {len(df)}\")\n",
    "print(f\"Liczba wierszy po usunięciu wartości odstających: {len(filtered_df)}\")\n",
    "filtered_df.to_csv('data/scaled_data/standardized/filtered_outliers/dataset_filtered_selected_outliers.csv', index=False)\n",
    "numerical_columns = df.select_dtypes(include=['float64', 'int64']).columns\n",
    "z_scores = np.abs((df[numerical_columns] - df[numerical_columns].mean()) / df[numerical_columns].std())\n",
    "outliers = (z_scores > 3).sum()\n",
    "print(\"Liczba wartości odstających w każdej kolumnie:\")\n",
    "\n",
    "\n",
    "print(outliers[outliers > 0])\n",
    "numerical_columns = filtered_df.select_dtypes(include=['float64', 'int64']).columns\n",
    "z_scores = np.abs((filtered_df[numerical_columns] - filtered_df[numerical_columns].mean()) / filtered_df[numerical_columns].std())\n",
    "outliers = (z_scores > 3).sum()\n",
    "print(\"Liczba wartości odstających w każdej kolumnie(po usuwaniu ):\")\n",
    "print(outliers[outliers > 0])"
   ]
  },
  {
   "cell_type": "code",
   "execution_count": 3,
   "id": "d1bd5f3c",
   "metadata": {},
   "outputs": [
    {
     "name": "stdout",
     "output_type": "stream",
     "text": [
      "Liczba wartości odstających po usunięciu:\n",
      "MonthlyIncome    0\n",
      "TotalAssets      0\n",
      "dtype: int64\n"
     ]
    }
   ],
   "source": [
    "filtered_df = pd.read_csv('dataset_filtered_selected_outliers.csv')\n",
    "z_scores = np.abs((filtered_df[columns_to_check] - filtered_df[columns_to_check].mean()) / filtered_df[columns_to_check].std())\n",
    "outliers_after = (z_scores > 3).sum()\n",
    "print(\"Liczba wartości odstających po usunięciu:\")\n",
    "print(outliers_after)"
   ]
  },
  {
   "cell_type": "code",
   "execution_count": 3,
   "id": "7d0f0a14",
   "metadata": {},
   "outputs": [
    {
     "name": "stdout",
     "output_type": "stream",
     "text": [
      "Wyniki dla zbioru `df`:\n",
      "Mean Squared Error (MSE): 0.06605877921177307\n",
      "R² Score: 0.62\n",
      "\n",
      "Wyniki dla zbioru `filtered_df`:\n",
      "Mean Squared Error (MSE): 0.054512081704656705\n",
      "R² Score: 0.60\n",
      "\n",
      "Porównanie wyników:\n",
      "Różnica MSE: 0.011546697507116364\n",
      "Różnica R²: 0.03\n"
     ]
    }
   ],
   "source": [
    "df = pd.read_csv('dataset_filled_combined_standardized.csv')\n",
    "filtered_df = pd.read_csv('dataset_filtered_selected_outliers.csv')\n",
    "\n",
    "target_column = 'LoanApproved'\n",
    "features = df.drop(columns=[target_column])\n",
    "\n",
    "X_train, X_test, y_train, y_test = train_test_split(features, df[target_column], test_size=0.2, random_state=42)\n",
    "\n",
    "model_df = LinearRegression()\n",
    "model_df.fit(X_train, y_train)\n",
    "y_pred_df = model_df.predict(X_test)\n",
    "mse_df = mean_squared_error(y_test, y_pred_df)\n",
    "r2_df = r2_score(y_test, y_pred_df)\n",
    "\n",
    "print(\"Wyniki dla zbioru `df`:\")\n",
    "print(f\"Mean Squared Error (MSE): {mse_df}\")\n",
    "print(f\"R² Score: {r2_df:.2f}\")\n",
    "X_train_f, X_test_f, y_train_f, y_test_f = train_test_split(filtered_df.drop(columns=[target_column]), filtered_df[target_column], test_size=0.2, random_state=42)\n",
    "model_filtered = LinearRegression()\n",
    "model_filtered.fit(X_train_f, y_train_f)\n",
    "y_pred_filtered = model_filtered.predict(X_test_f)\n",
    "mse_filtered = mean_squared_error(y_test_f, y_pred_filtered)\n",
    "r2_filtered = r2_score(y_test_f, y_pred_filtered)\n",
    "\n",
    "print(\"\\nWyniki dla zbioru `filtered_df`:\")\n",
    "print(f\"Mean Squared Error (MSE): {mse_filtered}\")\n",
    "print(f\"R² Score: {r2_filtered:.2f}\")\n",
    "print(\"\\nPorównanie wyników:\")\n",
    "print(f\"Różnica MSE: {mse_df - mse_filtered}\")\n",
    "print(f\"Różnica R²: {r2_df - r2_filtered:.2f}\")"
   ]
  },
  {
   "cell_type": "code",
   "execution_count": 13,
   "id": "f39e9a9c-5bd2-4e8f-b21a-6cd3dcec471f",
   "metadata": {},
   "outputs": [],
   "source": [
    "filtered_df = pd.read_csv('dataset_filtered_selected_outliers.csv')\n",
    "\n",
    "target_column = 'LoanApproved'\n",
    "features = df.drop(columns=[target_column])\n",
    "target = df[target_column]\n",
    "\n",
    "# X_train, X_test, y_train, y_test = train_test_split(features, target, test_size=0.2, random_state=42)\n",
    "\n",
    "test_size = 0.2  \n",
    "random_state = 42  \n",
    "\n",
    "np.random.seed(random_state)\n",
    "indices = np.arange(features.shape[0])\n",
    "np.random.shuffle(indices)\n",
    "\n",
    "split_index = int(features.shape[0] * (1 - test_size))\n",
    "\n",
    "train_indices = indices[:split_index]\n",
    "test_indices = indices[split_index:]\n",
    "\n",
    "X_train = features.iloc[train_indices]\n",
    "X_test = features.iloc[test_indices]\n",
    "y_train = target.iloc[train_indices]\n",
    "y_test = target.iloc[test_indices]\n",
    "\n",
    "def manual_mse(y_true, y_pred):\n",
    "    return np.mean((y_true - y_pred) ** 2)\n",
    "\n",
    "def manual_r2(y_true, y_pred):\n",
    "    ss_total = np.sum((y_true - np.mean(y_true)) ** 2)\n",
    "    ss_residual = np.sum((y_true - y_pred) ** 2)\n",
    "    return 1 - (ss_residual / ss_total)\n"
   ]
  },
  {
   "cell_type": "markdown",
   "id": "84c30ec2-7f83-4a00-991e-aa23886970a5",
   "metadata": {},
   "source": [
    "## Linear Regression"
   ]
  },
  {
   "cell_type": "code",
   "execution_count": 14,
   "id": "33c9cc2a-1c97-4413-92f2-aad949104428",
   "metadata": {},
   "outputs": [
    {
     "name": "stdout",
     "output_type": "stream",
     "text": [
      "MSE (Linear Regression): 0.05925508469248257\n",
      "R² (Linear Regression): 0.643138263745725\n"
     ]
    }
   ],
   "source": [
    "model_lr = LinearRegression()\n",
    "model_lr.fit(X_train, y_train)\n",
    "y_pred_lr = model_lr.predict(X_test)\n",
    "\n",
    "mse_lr = mean_squared_error(y_test, y_pred_lr)\n",
    "r2_lr = r2_score(y_test, y_pred_lr)\n",
    "print(f\"MSE (Linear Regression): {mse_lr}\")\n",
    "print(f\"R² (Linear Regression): {r2_lr}\")"
   ]
  },
  {
   "cell_type": "code",
   "execution_count": 15,
   "id": "ca4f380f-cd50-4753-9e0e-03994adabdb0",
   "metadata": {},
   "outputs": [
    {
     "name": "stdout",
     "output_type": "stream",
     "text": [
      "Manual MSE (Linear Regression): 0.05925508469248257\n",
      "Manual R² (Linear Regression): 0.643138263745725\n"
     ]
    }
   ],
   "source": [
    "manual_mse_lr = manual_mse(y_test, y_pred_lr)\n",
    "manual_r2_lr = manual_r2(y_test, y_pred_lr)\n",
    "\n",
    "print(f\"Manual MSE (Linear Regression): {manual_mse_lr}\")\n",
    "print(f\"Manual R² (Linear Regression): {manual_r2_lr}\")"
   ]
  },
  {
   "cell_type": "markdown",
   "id": "43dc0149-e70f-4cf7-95c9-1479079590eb",
   "metadata": {},
   "source": [
    "## Random Forest Regressor"
   ]
  },
  {
   "cell_type": "code",
   "execution_count": 16,
   "id": "d5367926-4e58-4317-a910-ecbdc908bc51",
   "metadata": {},
   "outputs": [
    {
     "name": "stdout",
     "output_type": "stream",
     "text": [
      "MSE (Random Forest Regressor): 0.03506247500000001\n",
      "R² (Random Forest Regressor): 0.7888374344445159\n"
     ]
    }
   ],
   "source": [
    "from sklearn.ensemble import RandomForestRegressor\n",
    "\n",
    "model_rf = RandomForestRegressor(random_state=42)\n",
    "model_rf.fit(X_train, y_train)\n",
    "y_pred_rf = model_rf.predict(X_test)\n",
    "\n",
    "mse_rf = mean_squared_error(y_test, y_pred_rf)\n",
    "r2_rf = r2_score(y_test, y_pred_rf)\n",
    "\n",
    "print(f\"MSE (Random Forest Regressor): {mse_rf}\")\n",
    "print(f\"R² (Random Forest Regressor): {r2_rf}\")"
   ]
  },
  {
   "cell_type": "code",
   "execution_count": 17,
   "id": "d0a031b0-2741-4f49-ad2a-771315efe62d",
   "metadata": {},
   "outputs": [
    {
     "name": "stdout",
     "output_type": "stream",
     "text": [
      "Manual MSE (Random Forest Regressor): 0.03506247500000001\n",
      "Manual R² (Random Forest Regressor): 0.7888374344445159\n"
     ]
    }
   ],
   "source": [
    "manual_mse_rf = manual_mse(y_test, y_pred_rf)\n",
    "manual_r2_rf = manual_r2(y_test, y_pred_rf)\n",
    "\n",
    "print(f\"Manual MSE (Random Forest Regressor): {manual_mse_rf}\")\n",
    "print(f\"Manual R² (Random Forest Regressor): {manual_r2_rf}\")"
   ]
  },
  {
   "cell_type": "markdown",
   "id": "907bc197-eb79-4363-85a2-cbb20c871946",
   "metadata": {},
   "source": [
    "## Gradient Boosting Regressor"
   ]
  },
  {
   "cell_type": "code",
   "execution_count": 18,
   "id": "64b91da4-e693-4f97-8d6b-96577a56a547",
   "metadata": {},
   "outputs": [
    {
     "name": "stdout",
     "output_type": "stream",
     "text": [
      "MSE (Gradient Boosting Regressor): 0.03557092647938056\n",
      "R² (Gradient Boosting Regressor): 0.7857753026684083\n"
     ]
    }
   ],
   "source": [
    "from sklearn.ensemble import GradientBoostingRegressor\n",
    "\n",
    "model_gb = GradientBoostingRegressor(random_state=42)\n",
    "model_gb.fit(X_train, y_train)\n",
    "y_pred_gb = model_gb.predict(X_test)\n",
    "\n",
    "mse_gb = mean_squared_error(y_test, y_pred_gb)\n",
    "r2_gb = r2_score(y_test, y_pred_gb)\n",
    "\n",
    "print(f\"MSE (Gradient Boosting Regressor): {mse_gb}\")\n",
    "print(f\"R² (Gradient Boosting Regressor): {r2_gb}\")\n"
   ]
  },
  {
   "cell_type": "code",
   "execution_count": 19,
   "id": "e0bed5ac-037e-4a41-a91a-79cb64812414",
   "metadata": {},
   "outputs": [
    {
     "name": "stdout",
     "output_type": "stream",
     "text": [
      "Manual MSE (Gradient Boosting Regressor): 0.03557092647938056\n",
      "Manual R² (Gradient Boosting Regressor): 0.7857753026684083\n"
     ]
    }
   ],
   "source": [
    "manual_mse_gb = manual_mse(y_test, y_pred_gb)\n",
    "manual_r2_gb = manual_r2(y_test, y_pred_gb)\n",
    "\n",
    "print(f\"Manual MSE (Gradient Boosting Regressor): {manual_mse_gb}\")\n",
    "print(f\"Manual R² (Gradient Boosting Regressor): {manual_r2_gb}\")"
   ]
  },
  {
   "cell_type": "markdown",
   "id": "060e5ff6-efe1-478a-b8a9-69e1f16978b4",
   "metadata": {},
   "source": [
    "## XGBoost Regressor "
   ]
  },
  {
   "cell_type": "code",
   "execution_count": 20,
   "id": "5a3b06fe-7aed-4843-9b2a-3f843890ac47",
   "metadata": {},
   "outputs": [
    {
     "name": "stdout",
     "output_type": "stream",
     "text": [
      "MSE (XGBoost Regressor): 0.03593787325357557\n",
      "R² (XGBoost Regressor): 0.7835653781761605\n"
     ]
    },
    {
     "name": "stderr",
     "output_type": "stream",
     "text": [
      "C:\\Users\\filip\\anaconda3\\Lib\\site-packages\\xgboost\\core.py:158: UserWarning: [17:18:00] WARNING: C:\\buildkite-agent\\builds\\buildkite-windows-cpu-autoscaling-group-i-0c55ff5f71b100e98-1\\xgboost\\xgboost-ci-windows\\src\\learner.cc:740: \n",
      "Parameters: { \"use_label_encoder\" } are not used.\n",
      "\n",
      "  warnings.warn(smsg, UserWarning)\n"
     ]
    }
   ],
   "source": [
    "from xgboost import XGBRegressor\n",
    "\n",
    "model_xgb = XGBRegressor(random_state=42, use_label_encoder=False, eval_metric='rmse')\n",
    "model_xgb.fit(X_train, y_train)\n",
    "y_pred_xgb = model_xgb.predict(X_test)\n",
    "\n",
    "mse_xgb = mean_squared_error(y_test, y_pred_xgb)\n",
    "r2_xgb = r2_score(y_test, y_pred_xgb)\n",
    "\n",
    "print(f\"MSE (XGBoost Regressor): {mse_xgb}\")\n",
    "print(f\"R² (XGBoost Regressor): {r2_xgb}\")\n"
   ]
  },
  {
   "cell_type": "code",
   "execution_count": 21,
   "id": "6a5369b7-c6a1-4d2b-ab8e-857232d14db9",
   "metadata": {},
   "outputs": [
    {
     "name": "stdout",
     "output_type": "stream",
     "text": [
      "Manual MSE (XGBoost Regressor): 0.03593787325357557\n",
      "Manual R² (XGBoost Regressor): 0.7835653781761605\n"
     ]
    }
   ],
   "source": [
    "manual_mse_xgb = manual_mse(y_test, y_pred_xgb)\n",
    "manual_r2_xgb = manual_r2(y_test, y_pred_xgb)\n",
    "\n",
    "print(f\"Manual MSE (XGBoost Regressor): {manual_mse_xgb}\")\n",
    "print(f\"Manual R² (XGBoost Regressor): {manual_r2_xgb}\")"
   ]
  },
  {
   "cell_type": "markdown",
   "id": "853c63b2-da3f-49ff-aa84-c30b51e3fb29",
   "metadata": {},
   "source": [
    "## CatBoost Regressor"
   ]
  },
  {
   "cell_type": "code",
   "execution_count": 22,
   "id": "5238cdc8-403f-4a0e-97ea-3297c7fa9e50",
   "metadata": {},
   "outputs": [
    {
     "name": "stdout",
     "output_type": "stream",
     "text": [
      "MSE (CatBoost Regressor): 0.03152092915107106\n",
      "R² (CatBoost Regressor): 0.8101662741083506\n"
     ]
    }
   ],
   "source": [
    "from catboost import CatBoostRegressor\n",
    "\n",
    "model_cb = CatBoostRegressor(random_state=42, verbose=0)  \n",
    "model_cb.fit(X_train, y_train)\n",
    "y_pred_cb = model_cb.predict(X_test)\n",
    "\n",
    "mse_cb = mean_squared_error(y_test, y_pred_cb)\n",
    "r2_cb = r2_score(y_test, y_pred_cb)\n",
    "\n",
    "print(f\"MSE (CatBoost Regressor): {mse_cb}\")\n",
    "print(f\"R² (CatBoost Regressor): {r2_cb}\")\n"
   ]
  },
  {
   "cell_type": "code",
   "execution_count": 23,
   "id": "d534cc98-7ea8-4a27-a07a-5f9d7a4d9cdc",
   "metadata": {},
   "outputs": [
    {
     "name": "stdout",
     "output_type": "stream",
     "text": [
      "Manual MSE (CatBoost Regressor): 0.03152092915107106\n",
      "Manual R² (CatBoost Regressor): 0.8101662741083506\n"
     ]
    }
   ],
   "source": [
    "manual_mse_cb = manual_mse(y_test, y_pred_cb)\n",
    "manual_r2_cb = manual_r2(y_test, y_pred_cb)\n",
    "\n",
    "print(f\"Manual MSE (CatBoost Regressor): {manual_mse_cb}\")\n",
    "print(f\"Manual R² (CatBoost Regressor): {manual_r2_cb}\")"
   ]
  },
  {
   "cell_type": "code",
   "execution_count": 24,
   "id": "4e5e1b60-3de2-4aec-9961-8c0af922c046",
   "metadata": {},
   "outputs": [
    {
     "name": "stdout",
     "output_type": "stream",
     "text": [
      "               Model       MSE        R²\n",
      "0  Linear Regression  0.059255  0.643138\n",
      "1      Random Forest  0.035062  0.788837\n",
      "2  Gradient Boosting  0.035571  0.785775\n",
      "3            XGBoost  0.035938  0.783565\n",
      "4           CatBoost  0.031521  0.810166\n"
     ]
    }
   ],
   "source": [
    "results = pd.DataFrame({\n",
    "    'Model': ['Linear Regression', 'Random Forest', 'Gradient Boosting', 'XGBoost', 'CatBoost'],\n",
    "    'MSE': [mse_lr, mse_rf, mse_gb, mse_xgb, mse_cb],\n",
    "    'R²': [r2_lr, r2_rf, r2_gb, r2_xgb, r2_cb]\n",
    "})\n",
    "\n",
    "print(results)"
   ]
  }
 ],
 "metadata": {
  "kernelspec": {
   "display_name": "Python 3 (ipykernel)",
   "language": "python",
   "name": "python3"
  },
  "language_info": {
   "codemirror_mode": {
    "name": "ipython",
    "version": 3
   },
   "file_extension": ".py",
   "mimetype": "text/x-python",
   "name": "python",
   "nbconvert_exporter": "python",
   "pygments_lexer": "ipython3",
   "version": "3.11.7"
  }
 },
 "nbformat": 4,
 "nbformat_minor": 5
}
