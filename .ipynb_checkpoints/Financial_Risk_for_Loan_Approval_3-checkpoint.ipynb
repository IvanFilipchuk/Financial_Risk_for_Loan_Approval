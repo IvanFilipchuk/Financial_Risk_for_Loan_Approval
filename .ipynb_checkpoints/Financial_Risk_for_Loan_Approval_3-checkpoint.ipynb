{
 "cells": [
  {
   "cell_type": "code",
   "execution_count": 20,
   "id": "c150ff0d",
   "metadata": {},
   "outputs": [],
   "source": [
    "import pandas as pd\n",
    "import numpy as np\n",
    "import matplotlib.pyplot as plt\n",
    "import seaborn as sns\n",
    "from sklearn.preprocessing import LabelEncoder, StandardScaler, MinMaxScaler\n",
    "from scipy.stats import mstats\n",
    "from sklearn.linear_model import LinearRegression\n",
    "from sklearn.metrics import mean_squared_error, r2_score,accuracy_score, confusion_matrix\n",
    "from sklearn.neighbors import KNeighborsClassifier\n",
    "from sklearn.model_selection import train_test_split"
   ]
  },
  {
   "cell_type": "code",
   "execution_count": 37,
   "id": "b2187d79",
   "metadata": {},
   "outputs": [
    {
     "name": "stdout",
     "output_type": "stream",
     "text": [
      "Liczba wierszy przed usunięciem wartości odstających: 20000\n",
      "Liczba wierszy po usunięciu wartości odstających: 16794\n",
      "Przetworzony zbiór danych zapisany jako 'dataset_filtered_selected_outliers.csv'.\n"
     ]
    }
   ],
   "source": [
    "df = pd.read_csv('data/scaled_data/standardized/dataset_filled_combined_standardized.csv')\n",
    "columns_to_check = ['MonthlyIncome', 'TotalAssets']\n",
    "def remove_outliers_for_selected_columns(data, columns, threshold=3):\n",
    "    while True:\n",
    "        z_scores = np.abs((data[columns] - data[columns].mean()) / data[columns].std())\n",
    "        outliers = (z_scores > threshold).sum().sum()\n",
    "        if outliers == 0:\n",
    "            break\n",
    "        data = data[(z_scores <= threshold).all(axis=1)]\n",
    "        \n",
    "    return data\n",
    "filtered_df = remove_outliers_for_selected_columns(df, columns_to_check)\n",
    "print(f\"Liczba wierszy przed usunięciem wartości odstających: {len(df)}\")\n",
    "print(f\"Liczba wierszy po usunięciu wartości odstających: {len(filtered_df)}\")\n",
    "filtered_df.to_csv('dataset_filtered_selected_outliers.csv', index=False)\n",
    "print(\"Przetworzony zbiór danych zapisany jako 'dataset_filtered_selected_outliers.csv'.\")\n",
    "\n"
   ]
  },
  {
   "cell_type": "code",
   "execution_count": 38,
   "id": "75c74497",
   "metadata": {},
   "outputs": [
    {
     "name": "stdout",
     "output_type": "stream",
     "text": [
      "Liczba wartości odstających po usunięciu:\n",
      "MonthlyIncome    0\n",
      "TotalAssets      0\n",
      "dtype: int64\n"
     ]
    }
   ],
   "source": [
    "filtered_df = pd.read_csv('dataset_filtered_selected_outliers.csv')\n",
    "z_scores = np.abs((filtered_df[columns_to_check] - filtered_df[columns_to_check].mean()) / filtered_df[columns_to_check].std())\n",
    "outliers_after = (z_scores > 3).sum()\n",
    "print(\"Liczba wartości odstających po usunięciu:\")\n",
    "print(outliers_after)"
   ]
  },
  {
   "cell_type": "code",
   "execution_count": 39,
   "id": "7763b8a2",
   "metadata": {},
   "outputs": [
    {
     "name": "stdout",
     "output_type": "stream",
     "text": [
      "Wyniki dla zbioru `df`:\n",
      "Mean Squared Error (MSE): 0.07\n",
      "R² Score: 0.62\n",
      "\n",
      "Wyniki dla zbioru `filtered_df`:\n",
      "Mean Squared Error (MSE): 0.05\n",
      "R² Score: 0.60\n",
      "\n",
      "Porównanie wyników:\n",
      "Różnica MSE: 0.01\n",
      "Różnica R²: 0.03\n"
     ]
    }
   ],
   "source": [
    "df = pd.read_csv('dataset_filled_combined_standardized.csv')\n",
    "filtered_df = pd.read_csv('dataset_filtered_selected_outliers.csv')\n",
    "target_column = 'LoanApproved'\n",
    "features = df.drop(columns=[target_column])\n",
    "X_train, X_test, y_train, y_test = train_test_split(features, df[target_column], test_size=0.2, random_state=42)\n",
    "model_df = LinearRegression()\n",
    "model_df.fit(X_train, y_train)\n",
    "y_pred_df = model_df.predict(X_test)\n",
    "mse_df = mean_squared_error(y_test, y_pred_df)\n",
    "r2_df = r2_score(y_test, y_pred_df)\n",
    "\n",
    "print(\"Wyniki dla zbioru `df`:\")\n",
    "print(f\"Mean Squared Error (MSE): {mse_df:.2f}\")\n",
    "print(f\"R² Score: {r2_df:.2f}\")\n",
    "X_train_f, X_test_f, y_train_f, y_test_f = train_test_split(filtered_df.drop(columns=[target_column]), filtered_df[target_column], test_size=0.2, random_state=42)\n",
    "model_filtered = LinearRegression()\n",
    "model_filtered.fit(X_train_f, y_train_f)\n",
    "y_pred_filtered = model_filtered.predict(X_test_f)\n",
    "mse_filtered = mean_squared_error(y_test_f, y_pred_filtered)\n",
    "r2_filtered = r2_score(y_test_f, y_pred_filtered)\n",
    "\n",
    "print(\"\\nWyniki dla zbioru `filtered_df`:\")\n",
    "print(f\"Mean Squared Error (MSE): {mse_filtered:.2f}\")\n",
    "print(f\"R² Score: {r2_filtered:.2f}\")\n",
    "print(\"\\nPorównanie wyników:\")\n",
    "print(f\"Różnica MSE: {mse_df - mse_filtered:.2f}\")\n",
    "print(f\"Różnica R²: {r2_df - r2_filtered:.2f}\")"
   ]
  },
  {
   "cell_type": "code",
   "execution_count": 28,
   "id": "1ea97ce9",
   "metadata": {},
   "outputs": [
    {
     "name": "stdout",
     "output_type": "stream",
     "text": [
      "Regresja Liniowa:\n",
      "Mean Squared Error: 0.07\n",
      "R² Score: 0.62\n"
     ]
    }
   ],
   "source": []
  },
  {
   "cell_type": "code",
   "execution_count": 26,
   "id": "dc5df51d",
   "metadata": {},
   "outputs": [
    {
     "name": "stdout",
     "output_type": "stream",
     "text": [
      "K-Nearest Neighbors:\n",
      "Accuracy: 0.92\n",
      "Confusion Matrix:\n",
      "[[2765   51]\n",
      " [ 201  342]]\n"
     ]
    },
    {
     "name": "stderr",
     "output_type": "stream",
     "text": [
      "C:\\Users\\maiso\\anaconda3\\lib\\site-packages\\sklearn\\neighbors\\_classification.py:228: FutureWarning: Unlike other reduction functions (e.g. `skew`, `kurtosis`), the default behavior of `mode` typically preserves the axis it acts along. In SciPy 1.11.0, this behavior will change: the default value of `keepdims` will become False, the `axis` over which the statistic is taken will be eliminated, and the value None will no longer be accepted. Set `keepdims` to True or False to avoid this warning.\n",
      "  mode, _ = stats.mode(_y[neigh_ind, k], axis=1)\n"
     ]
    }
   ],
   "source": []
  },
  {
   "cell_type": "code",
   "execution_count": null,
   "id": "bd445243",
   "metadata": {},
   "outputs": [],
   "source": []
  }
 ],
 "metadata": {
  "kernelspec": {
   "display_name": "Python 3 (ipykernel)",
   "language": "python",
   "name": "python3"
  },
  "language_info": {
   "codemirror_mode": {
    "name": "ipython",
    "version": 3
   },
   "file_extension": ".py",
   "mimetype": "text/x-python",
   "name": "python",
   "nbconvert_exporter": "python",
   "pygments_lexer": "ipython3",
   "version": "3.9.13"
  }
 },
 "nbformat": 4,
 "nbformat_minor": 5
}
